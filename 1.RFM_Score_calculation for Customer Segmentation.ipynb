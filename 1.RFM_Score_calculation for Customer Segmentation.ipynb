{
 "cells": [
  {
   "cell_type": "markdown",
   "metadata": {},
   "source": [
    "## 1.Problem Statement : Find the diffrent group of customers with their Loaylty,Multiple Purchase,more spending persons by diffrent Stategies."
   ]
  },
  {
   "cell_type": "markdown",
   "metadata": {},
   "source": [
    "- ### Strategies :  1.RFM Score and value, 2.Customer Loyalty (PlatinumGold,Silver)"
   ]
  },
  {
   "cell_type": "markdown",
   "metadata": {},
   "source": [
    "- ### Dataset : Customer purchase data with details of purchased products,sales detail and another 23 columns"
   ]
  },
  {
   "cell_type": "markdown",
   "metadata": {},
   "source": [
    "### Importing Customer purchasse Data for RFM Calculation"
   ]
  },
  {
   "cell_type": "code",
   "execution_count": 3,
   "metadata": {},
   "outputs": [
    {
     "data": {
      "text/html": [
       "<div>\n",
       "<style scoped>\n",
       "    .dataframe tbody tr th:only-of-type {\n",
       "        vertical-align: middle;\n",
       "    }\n",
       "\n",
       "    .dataframe tbody tr th {\n",
       "        vertical-align: top;\n",
       "    }\n",
       "\n",
       "    .dataframe thead th {\n",
       "        text-align: right;\n",
       "    }\n",
       "</style>\n",
       "<table border=\"1\" class=\"dataframe\">\n",
       "  <thead>\n",
       "    <tr style=\"text-align: right;\">\n",
       "      <th></th>\n",
       "      <th>Row ID</th>\n",
       "      <th>Order ID</th>\n",
       "      <th>Order Date</th>\n",
       "      <th>Ship Date</th>\n",
       "      <th>Ship Mode</th>\n",
       "      <th>Customer ID</th>\n",
       "      <th>Customer Name</th>\n",
       "      <th>Segment</th>\n",
       "      <th>City</th>\n",
       "      <th>State</th>\n",
       "      <th>...</th>\n",
       "      <th>Product ID</th>\n",
       "      <th>Category</th>\n",
       "      <th>Sub-Category</th>\n",
       "      <th>Product Name</th>\n",
       "      <th>Sales</th>\n",
       "      <th>Quantity</th>\n",
       "      <th>Discount</th>\n",
       "      <th>Profit</th>\n",
       "      <th>Shipping Cost</th>\n",
       "      <th>Order Priority</th>\n",
       "    </tr>\n",
       "  </thead>\n",
       "  <tbody>\n",
       "    <tr>\n",
       "      <td>0</td>\n",
       "      <td>42433</td>\n",
       "      <td>AG-2011-2040</td>\n",
       "      <td>2011-01-01</td>\n",
       "      <td>2011-01-06</td>\n",
       "      <td>Standard Class</td>\n",
       "      <td>TB-11280</td>\n",
       "      <td>Toby Braunhardt</td>\n",
       "      <td>Consumer</td>\n",
       "      <td>Constantine</td>\n",
       "      <td>Constantine</td>\n",
       "      <td>...</td>\n",
       "      <td>OFF-TEN-10000025</td>\n",
       "      <td>Office Supplies</td>\n",
       "      <td>Storage</td>\n",
       "      <td>Tenex Lockers, Blue</td>\n",
       "      <td>408.300</td>\n",
       "      <td>2</td>\n",
       "      <td>0.0</td>\n",
       "      <td>106.140</td>\n",
       "      <td>35.46</td>\n",
       "      <td>Medium</td>\n",
       "    </tr>\n",
       "    <tr>\n",
       "      <td>1</td>\n",
       "      <td>22253</td>\n",
       "      <td>IN-2011-47883</td>\n",
       "      <td>2011-01-01</td>\n",
       "      <td>2011-01-08</td>\n",
       "      <td>Standard Class</td>\n",
       "      <td>JH-15985</td>\n",
       "      <td>Joseph Holt</td>\n",
       "      <td>Consumer</td>\n",
       "      <td>Wagga Wagga</td>\n",
       "      <td>New South Wales</td>\n",
       "      <td>...</td>\n",
       "      <td>OFF-SU-10000618</td>\n",
       "      <td>Office Supplies</td>\n",
       "      <td>Supplies</td>\n",
       "      <td>Acme Trimmer, High Speed</td>\n",
       "      <td>120.366</td>\n",
       "      <td>3</td>\n",
       "      <td>0.1</td>\n",
       "      <td>36.036</td>\n",
       "      <td>9.72</td>\n",
       "      <td>Medium</td>\n",
       "    </tr>\n",
       "    <tr>\n",
       "      <td>2</td>\n",
       "      <td>48883</td>\n",
       "      <td>HU-2011-1220</td>\n",
       "      <td>2011-01-01</td>\n",
       "      <td>2011-01-05</td>\n",
       "      <td>Second Class</td>\n",
       "      <td>AT-735</td>\n",
       "      <td>Annie Thurman</td>\n",
       "      <td>Consumer</td>\n",
       "      <td>Budapest</td>\n",
       "      <td>Budapest</td>\n",
       "      <td>...</td>\n",
       "      <td>OFF-TEN-10001585</td>\n",
       "      <td>Office Supplies</td>\n",
       "      <td>Storage</td>\n",
       "      <td>Tenex Box, Single Width</td>\n",
       "      <td>66.120</td>\n",
       "      <td>4</td>\n",
       "      <td>0.0</td>\n",
       "      <td>29.640</td>\n",
       "      <td>8.17</td>\n",
       "      <td>High</td>\n",
       "    </tr>\n",
       "  </tbody>\n",
       "</table>\n",
       "<p>3 rows × 23 columns</p>\n",
       "</div>"
      ],
      "text/plain": [
       "   Row ID       Order ID Order Date  Ship Date       Ship Mode Customer ID  \\\n",
       "0   42433   AG-2011-2040 2011-01-01 2011-01-06  Standard Class    TB-11280   \n",
       "1   22253  IN-2011-47883 2011-01-01 2011-01-08  Standard Class    JH-15985   \n",
       "2   48883   HU-2011-1220 2011-01-01 2011-01-05    Second Class      AT-735   \n",
       "\n",
       "     Customer Name   Segment         City            State  ...  \\\n",
       "0  Toby Braunhardt  Consumer  Constantine      Constantine  ...   \n",
       "1      Joseph Holt  Consumer  Wagga Wagga  New South Wales  ...   \n",
       "2    Annie Thurman  Consumer     Budapest         Budapest  ...   \n",
       "\n",
       "         Product ID         Category Sub-Category              Product Name  \\\n",
       "0  OFF-TEN-10000025  Office Supplies      Storage       Tenex Lockers, Blue   \n",
       "1   OFF-SU-10000618  Office Supplies     Supplies  Acme Trimmer, High Speed   \n",
       "2  OFF-TEN-10001585  Office Supplies      Storage   Tenex Box, Single Width   \n",
       "\n",
       "     Sales Quantity Discount   Profit  Shipping Cost  Order Priority  \n",
       "0  408.300        2      0.0  106.140          35.46          Medium  \n",
       "1  120.366        3      0.1   36.036           9.72          Medium  \n",
       "2   66.120        4      0.0   29.640           8.17            High  \n",
       "\n",
       "[3 rows x 23 columns]"
      ]
     },
     "execution_count": 3,
     "metadata": {},
     "output_type": "execute_result"
    }
   ],
   "source": [
    "import datetime as dt\n",
    "import numpy as np\n",
    "import pandas as pd\n",
    "import warnings\n",
    "from pandas import ExcelWriter\n",
    "from pandas import ExcelFile\n",
    "warnings.filterwarnings('ignore')\n",
    "import matplotlib.pyplot as plt\n",
    "from matplotlib_venn import venn2, venn2_circles, venn2_unweighted\n",
    "%matplotlib inline\n",
    "import seaborn as sns\n",
    "file=pd.read_excel('C:/datalake/project_retail/master_dataset.xlsx', sheet_name='customer_purchase',encoding = 'unicode_escape')\n",
    "file.head(3)"
   ]
  },
  {
   "cell_type": "markdown",
   "metadata": {},
   "source": [
    "#### Making Customize dataframe for RMF calculation."
   ]
  },
  {
   "cell_type": "code",
   "execution_count": 31,
   "metadata": {},
   "outputs": [
    {
     "data": {
      "text/html": [
       "<div>\n",
       "<style scoped>\n",
       "    .dataframe tbody tr th:only-of-type {\n",
       "        vertical-align: middle;\n",
       "    }\n",
       "\n",
       "    .dataframe tbody tr th {\n",
       "        vertical-align: top;\n",
       "    }\n",
       "\n",
       "    .dataframe thead th {\n",
       "        text-align: right;\n",
       "    }\n",
       "</style>\n",
       "<table border=\"1\" class=\"dataframe\">\n",
       "  <thead>\n",
       "    <tr style=\"text-align: right;\">\n",
       "      <th></th>\n",
       "      <th>Order ID</th>\n",
       "      <th>Order Date</th>\n",
       "      <th>Customer ID</th>\n",
       "      <th>Sales</th>\n",
       "      <th>date</th>\n",
       "    </tr>\n",
       "  </thead>\n",
       "  <tbody>\n",
       "    <tr>\n",
       "      <td>0</td>\n",
       "      <td>AG-2011-2040</td>\n",
       "      <td>2011-01-01</td>\n",
       "      <td>TB-11280</td>\n",
       "      <td>408.300</td>\n",
       "      <td>2011-01-01</td>\n",
       "    </tr>\n",
       "    <tr>\n",
       "      <td>1</td>\n",
       "      <td>IN-2011-47883</td>\n",
       "      <td>2011-01-01</td>\n",
       "      <td>JH-15985</td>\n",
       "      <td>120.366</td>\n",
       "      <td>2011-01-01</td>\n",
       "    </tr>\n",
       "    <tr>\n",
       "      <td>2</td>\n",
       "      <td>HU-2011-1220</td>\n",
       "      <td>2011-01-01</td>\n",
       "      <td>AT-735</td>\n",
       "      <td>66.120</td>\n",
       "      <td>2011-01-01</td>\n",
       "    </tr>\n",
       "    <tr>\n",
       "      <td>3</td>\n",
       "      <td>IT-2011-3647632</td>\n",
       "      <td>2011-01-01</td>\n",
       "      <td>EM-14140</td>\n",
       "      <td>44.865</td>\n",
       "      <td>2011-01-01</td>\n",
       "    </tr>\n",
       "  </tbody>\n",
       "</table>\n",
       "</div>"
      ],
      "text/plain": [
       "          Order ID Order Date Customer ID    Sales        date\n",
       "0     AG-2011-2040 2011-01-01    TB-11280  408.300  2011-01-01\n",
       "1    IN-2011-47883 2011-01-01    JH-15985  120.366  2011-01-01\n",
       "2     HU-2011-1220 2011-01-01      AT-735   66.120  2011-01-01\n",
       "3  IT-2011-3647632 2011-01-01    EM-14140   44.865  2011-01-01"
      ]
     },
     "execution_count": 31,
     "metadata": {},
     "output_type": "execute_result"
    }
   ],
   "source": [
    "# selecting required columns\n",
    "df=file.loc[:,['Order ID', 'Order Date','Customer ID','Sales']]\n",
    "\n",
    "# making date format\n",
    "df['date'] = pd.DatetimeIndex(df['Order Date']).date\n",
    "df.dropna(subset=['Customer ID'],how='all',inplace=True)\n",
    "df.head(4)"
   ]
  },
  {
   "cell_type": "markdown",
   "metadata": {},
   "source": [
    "- ### RFM Calculation consist of Recency,Frequecy & Monetory."
   ]
  },
  {
   "cell_type": "markdown",
   "metadata": {},
   "source": [
    "- #### Recency (R): Who have purchased recently? Number of days since last purchase (least recency)\n"
   ]
  },
  {
   "cell_type": "markdown",
   "metadata": {},
   "source": [
    "- #### Frequency (F): Who has purchased frequently? It means the total number of purchases.(high frequency)"
   ]
  },
  {
   "cell_type": "markdown",
   "metadata": {},
   "source": [
    "- #### Monetary Value(M): Who have high purchase amount? It means the total money customer spent (high monetary value)"
   ]
  },
  {
   "cell_type": "markdown",
   "metadata": {},
   "source": [
    "#### Recency Calculation"
   ]
  },
  {
   "cell_type": "code",
   "execution_count": 32,
   "metadata": {},
   "outputs": [
    {
     "data": {
      "text/html": [
       "<div>\n",
       "<style scoped>\n",
       "    .dataframe tbody tr th:only-of-type {\n",
       "        vertical-align: middle;\n",
       "    }\n",
       "\n",
       "    .dataframe tbody tr th {\n",
       "        vertical-align: top;\n",
       "    }\n",
       "\n",
       "    .dataframe thead th {\n",
       "        text-align: right;\n",
       "    }\n",
       "</style>\n",
       "<table border=\"1\" class=\"dataframe\">\n",
       "  <thead>\n",
       "    <tr style=\"text-align: right;\">\n",
       "      <th></th>\n",
       "      <th>Customer ID</th>\n",
       "      <th>Recency</th>\n",
       "    </tr>\n",
       "  </thead>\n",
       "  <tbody>\n",
       "    <tr>\n",
       "      <td>0</td>\n",
       "      <td>AA-10315</td>\n",
       "      <td>9</td>\n",
       "    </tr>\n",
       "    <tr>\n",
       "      <td>1</td>\n",
       "      <td>AA-10375</td>\n",
       "      <td>7</td>\n",
       "    </tr>\n",
       "    <tr>\n",
       "      <td>2</td>\n",
       "      <td>AA-10480</td>\n",
       "      <td>126</td>\n",
       "    </tr>\n",
       "  </tbody>\n",
       "</table>\n",
       "</div>"
      ],
      "text/plain": [
       "  Customer ID  Recency\n",
       "0    AA-10315        9\n",
       "1    AA-10375        7\n",
       "2    AA-10480      126"
      ]
     },
     "execution_count": 32,
     "metadata": {},
     "output_type": "execute_result"
    }
   ],
   "source": [
    "# selecting nearest date for recency calculation \n",
    "now = dt.date(2015,1,1)\n",
    "recency_df = df.groupby(['Customer ID'],as_index=False)['date'].max()\n",
    "recency_df.columns = ['Customer ID','LastPurchaseDate']\n",
    "\n",
    "# subtracting latest date(now) from purchase Date\n",
    "recency_df['Recency'] = recency_df.LastPurchaseDate.apply(lambda x : (now - x).days)\n",
    "recency_df=recency_df.drop(columns=['LastPurchaseDate'])\n",
    "recency_df.head(3)"
   ]
  },
  {
   "cell_type": "markdown",
   "metadata": {},
   "source": [
    "#### Frequency Calculation"
   ]
  },
  {
   "cell_type": "code",
   "execution_count": 33,
   "metadata": {},
   "outputs": [
    {
     "data": {
      "text/html": [
       "<div>\n",
       "<style scoped>\n",
       "    .dataframe tbody tr th:only-of-type {\n",
       "        vertical-align: middle;\n",
       "    }\n",
       "\n",
       "    .dataframe tbody tr th {\n",
       "        vertical-align: top;\n",
       "    }\n",
       "\n",
       "    .dataframe thead th {\n",
       "        text-align: right;\n",
       "    }\n",
       "</style>\n",
       "<table border=\"1\" class=\"dataframe\">\n",
       "  <thead>\n",
       "    <tr style=\"text-align: right;\">\n",
       "      <th></th>\n",
       "      <th>Customer ID</th>\n",
       "      <th>Frequency</th>\n",
       "    </tr>\n",
       "  </thead>\n",
       "  <tbody>\n",
       "    <tr>\n",
       "      <td>0</td>\n",
       "      <td>AA-10315</td>\n",
       "      <td>19</td>\n",
       "    </tr>\n",
       "    <tr>\n",
       "      <td>1</td>\n",
       "      <td>AA-10375</td>\n",
       "      <td>23</td>\n",
       "    </tr>\n",
       "    <tr>\n",
       "      <td>2</td>\n",
       "      <td>AA-10480</td>\n",
       "      <td>20</td>\n",
       "    </tr>\n",
       "  </tbody>\n",
       "</table>\n",
       "</div>"
      ],
      "text/plain": [
       "  Customer ID  Frequency\n",
       "0    AA-10315         19\n",
       "1    AA-10375         23\n",
       "2    AA-10480         20"
      ]
     },
     "execution_count": 33,
     "metadata": {},
     "output_type": "execute_result"
    }
   ],
   "source": [
    "# Calculating total no. customer purchase (Frequecy)\n",
    "frequency_df = df.copy()\n",
    "frequency_df.drop_duplicates(subset=['Customer ID','Order ID'], keep=\"first\", inplace=True) \n",
    "frequency_df = frequency_df.groupby('Customer ID',as_index=False)['Order ID'].count()\n",
    "frequency_df.columns = ['Customer ID','Frequency']\n",
    "frequency_df.head(3)"
   ]
  },
  {
   "cell_type": "markdown",
   "metadata": {},
   "source": [
    "#### Monetary Calculation"
   ]
  },
  {
   "cell_type": "code",
   "execution_count": 34,
   "metadata": {},
   "outputs": [
    {
     "data": {
      "text/html": [
       "<div>\n",
       "<style scoped>\n",
       "    .dataframe tbody tr th:only-of-type {\n",
       "        vertical-align: middle;\n",
       "    }\n",
       "\n",
       "    .dataframe tbody tr th {\n",
       "        vertical-align: top;\n",
       "    }\n",
       "\n",
       "    .dataframe thead th {\n",
       "        text-align: right;\n",
       "    }\n",
       "</style>\n",
       "<table border=\"1\" class=\"dataframe\">\n",
       "  <thead>\n",
       "    <tr style=\"text-align: right;\">\n",
       "      <th></th>\n",
       "      <th>Customer ID</th>\n",
       "      <th>Monetary</th>\n",
       "    </tr>\n",
       "  </thead>\n",
       "  <tbody>\n",
       "    <tr>\n",
       "      <td>0</td>\n",
       "      <td>AA-10315</td>\n",
       "      <td>13747.41300</td>\n",
       "    </tr>\n",
       "    <tr>\n",
       "      <td>1</td>\n",
       "      <td>AA-10375</td>\n",
       "      <td>5884.19500</td>\n",
       "    </tr>\n",
       "    <tr>\n",
       "      <td>2</td>\n",
       "      <td>AA-10480</td>\n",
       "      <td>17695.58978</td>\n",
       "    </tr>\n",
       "  </tbody>\n",
       "</table>\n",
       "</div>"
      ],
      "text/plain": [
       "  Customer ID     Monetary\n",
       "0    AA-10315  13747.41300\n",
       "1    AA-10375   5884.19500\n",
       "2    AA-10480  17695.58978"
      ]
     },
     "execution_count": 34,
     "metadata": {},
     "output_type": "execute_result"
    }
   ],
   "source": [
    "# Summing customerwisse sales for Monetary calculation\n",
    "monetary_df=df.groupby('Customer ID',as_index=False)['Sales'].sum()\n",
    "monetary_df.columns = ['Customer ID','Monetary']\n",
    "monetary_df.head(3)"
   ]
  },
  {
   "cell_type": "markdown",
   "metadata": {},
   "source": [
    "### Combining Recency,Frequency & Monetory dataframe into one dataframe named 'rfm'"
   ]
  },
  {
   "cell_type": "code",
   "execution_count": 35,
   "metadata": {},
   "outputs": [
    {
     "data": {
      "text/html": [
       "<div>\n",
       "<style scoped>\n",
       "    .dataframe tbody tr th:only-of-type {\n",
       "        vertical-align: middle;\n",
       "    }\n",
       "\n",
       "    .dataframe tbody tr th {\n",
       "        vertical-align: top;\n",
       "    }\n",
       "\n",
       "    .dataframe thead th {\n",
       "        text-align: right;\n",
       "    }\n",
       "</style>\n",
       "<table border=\"1\" class=\"dataframe\">\n",
       "  <thead>\n",
       "    <tr style=\"text-align: right;\">\n",
       "      <th></th>\n",
       "      <th>Recency</th>\n",
       "      <th>Frequency</th>\n",
       "      <th>Monetary</th>\n",
       "    </tr>\n",
       "    <tr>\n",
       "      <th>Customer ID</th>\n",
       "      <th></th>\n",
       "      <th></th>\n",
       "      <th></th>\n",
       "    </tr>\n",
       "  </thead>\n",
       "  <tbody>\n",
       "    <tr>\n",
       "      <td>AA-10315</td>\n",
       "      <td>9</td>\n",
       "      <td>19</td>\n",
       "      <td>13747.41300</td>\n",
       "    </tr>\n",
       "    <tr>\n",
       "      <td>AA-10375</td>\n",
       "      <td>7</td>\n",
       "      <td>23</td>\n",
       "      <td>5884.19500</td>\n",
       "    </tr>\n",
       "    <tr>\n",
       "      <td>AA-10480</td>\n",
       "      <td>126</td>\n",
       "      <td>20</td>\n",
       "      <td>17695.58978</td>\n",
       "    </tr>\n",
       "  </tbody>\n",
       "</table>\n",
       "</div>"
      ],
      "text/plain": [
       "             Recency  Frequency     Monetary\n",
       "Customer ID                                 \n",
       "AA-10315           9         19  13747.41300\n",
       "AA-10375           7         23   5884.19500\n",
       "AA-10480         126         20  17695.58978"
      ]
     },
     "execution_count": 35,
     "metadata": {},
     "output_type": "execute_result"
    }
   ],
   "source": [
    "# customer ID wise RFM Score in one Dataframe\n",
    "rf = recency_df.merge(frequency_df,left_on='Customer ID',right_on='Customer ID')\n",
    "rfm = rf.merge(monetary_df,left_on='Customer ID',right_on='Customer ID')\n",
    "rfm.set_index('Customer ID',inplace=True)\n",
    "rfm.head(3)"
   ]
  },
  {
   "cell_type": "markdown",
   "metadata": {},
   "source": [
    "### Standardising RFM values into 1 to 4 unit values"
   ]
  },
  {
   "cell_type": "code",
   "execution_count": 36,
   "metadata": {},
   "outputs": [
    {
     "data": {
      "text/html": [
       "<div>\n",
       "<style scoped>\n",
       "    .dataframe tbody tr th:only-of-type {\n",
       "        vertical-align: middle;\n",
       "    }\n",
       "\n",
       "    .dataframe tbody tr th {\n",
       "        vertical-align: top;\n",
       "    }\n",
       "\n",
       "    .dataframe thead th {\n",
       "        text-align: right;\n",
       "    }\n",
       "</style>\n",
       "<table border=\"1\" class=\"dataframe\">\n",
       "  <thead>\n",
       "    <tr style=\"text-align: right;\">\n",
       "      <th></th>\n",
       "      <th>Recency</th>\n",
       "      <th>Frequency</th>\n",
       "      <th>Monetary</th>\n",
       "      <th>r_score</th>\n",
       "      <th>f_score</th>\n",
       "      <th>m_score</th>\n",
       "    </tr>\n",
       "    <tr>\n",
       "      <th>Customer ID</th>\n",
       "      <th></th>\n",
       "      <th></th>\n",
       "      <th></th>\n",
       "      <th></th>\n",
       "      <th></th>\n",
       "      <th></th>\n",
       "    </tr>\n",
       "  </thead>\n",
       "  <tbody>\n",
       "    <tr>\n",
       "      <td>AA-10315</td>\n",
       "      <td>9</td>\n",
       "      <td>19</td>\n",
       "      <td>13747.41300</td>\n",
       "      <td>1</td>\n",
       "      <td>2</td>\n",
       "      <td>1</td>\n",
       "    </tr>\n",
       "    <tr>\n",
       "      <td>AA-10375</td>\n",
       "      <td>7</td>\n",
       "      <td>23</td>\n",
       "      <td>5884.19500</td>\n",
       "      <td>1</td>\n",
       "      <td>2</td>\n",
       "      <td>3</td>\n",
       "    </tr>\n",
       "    <tr>\n",
       "      <td>AA-10480</td>\n",
       "      <td>126</td>\n",
       "      <td>20</td>\n",
       "      <td>17695.58978</td>\n",
       "      <td>4</td>\n",
       "      <td>2</td>\n",
       "      <td>1</td>\n",
       "    </tr>\n",
       "  </tbody>\n",
       "</table>\n",
       "</div>"
      ],
      "text/plain": [
       "             Recency  Frequency     Monetary r_score f_score m_score\n",
       "Customer ID                                                         \n",
       "AA-10315           9         19  13747.41300       1       2       1\n",
       "AA-10375           7         23   5884.19500       1       2       3\n",
       "AA-10480         126         20  17695.58978       4       2       1"
      ]
     },
     "execution_count": 36,
     "metadata": {},
     "output_type": "execute_result"
    }
   ],
   "source": [
    "# using qcut methode for bins based on sample quantiles\n",
    "rfm['r_score'] = pd.qcut(rfm['Recency'], 4, ['1','2','3','4'])\n",
    "rfm['f_score'] = pd.qcut(rfm['Frequency'], 4, ['4','3','2','1'])\n",
    "rfm['m_score'] = pd.qcut(rfm['Monetary'], 4, ['4','3','2','1'])\n",
    "rfm.head(3)"
   ]
  },
  {
   "cell_type": "markdown",
   "metadata": {},
   "source": [
    "#### Calculating RFM Score value"
   ]
  },
  {
   "cell_type": "code",
   "execution_count": 37,
   "metadata": {},
   "outputs": [
    {
     "data": {
      "text/html": [
       "<div>\n",
       "<style scoped>\n",
       "    .dataframe tbody tr th:only-of-type {\n",
       "        vertical-align: middle;\n",
       "    }\n",
       "\n",
       "    .dataframe tbody tr th {\n",
       "        vertical-align: top;\n",
       "    }\n",
       "\n",
       "    .dataframe thead th {\n",
       "        text-align: right;\n",
       "    }\n",
       "</style>\n",
       "<table border=\"1\" class=\"dataframe\">\n",
       "  <thead>\n",
       "    <tr style=\"text-align: right;\">\n",
       "      <th></th>\n",
       "      <th>Recency</th>\n",
       "      <th>Frequency</th>\n",
       "      <th>Monetary</th>\n",
       "      <th>r_score</th>\n",
       "      <th>f_score</th>\n",
       "      <th>m_score</th>\n",
       "      <th>RFM_score</th>\n",
       "    </tr>\n",
       "    <tr>\n",
       "      <th>Customer ID</th>\n",
       "      <th></th>\n",
       "      <th></th>\n",
       "      <th></th>\n",
       "      <th></th>\n",
       "      <th></th>\n",
       "      <th></th>\n",
       "      <th></th>\n",
       "    </tr>\n",
       "  </thead>\n",
       "  <tbody>\n",
       "    <tr>\n",
       "      <td>AA-10315</td>\n",
       "      <td>9</td>\n",
       "      <td>19</td>\n",
       "      <td>13747.41300</td>\n",
       "      <td>1</td>\n",
       "      <td>2</td>\n",
       "      <td>1</td>\n",
       "      <td>121</td>\n",
       "    </tr>\n",
       "    <tr>\n",
       "      <td>AA-10375</td>\n",
       "      <td>7</td>\n",
       "      <td>23</td>\n",
       "      <td>5884.19500</td>\n",
       "      <td>1</td>\n",
       "      <td>2</td>\n",
       "      <td>3</td>\n",
       "      <td>123</td>\n",
       "    </tr>\n",
       "    <tr>\n",
       "      <td>AA-10480</td>\n",
       "      <td>126</td>\n",
       "      <td>20</td>\n",
       "      <td>17695.58978</td>\n",
       "      <td>4</td>\n",
       "      <td>2</td>\n",
       "      <td>1</td>\n",
       "      <td>421</td>\n",
       "    </tr>\n",
       "  </tbody>\n",
       "</table>\n",
       "</div>"
      ],
      "text/plain": [
       "             Recency  Frequency     Monetary r_score f_score m_score RFM_score\n",
       "Customer ID                                                                   \n",
       "AA-10315           9         19  13747.41300       1       2       1       121\n",
       "AA-10375           7         23   5884.19500       1       2       3       123\n",
       "AA-10480         126         20  17695.58978       4       2       1       421"
      ]
     },
     "execution_count": 37,
     "metadata": {},
     "output_type": "execute_result"
    }
   ],
   "source": [
    "# Combining recency,frequecy,monetory as RFM_score\n",
    "rfm['RFM_score'] = rfm['r_score'].astype(str)+ rfm['f_score'].astype(str) + rfm['m_score'].astype(str)\n",
    "rfm.head(3)"
   ]
  },
  {
   "cell_type": "markdown",
   "metadata": {},
   "source": [
    "#### Calculating RFM Group value"
   ]
  },
  {
   "cell_type": "code",
   "execution_count": 38,
   "metadata": {},
   "outputs": [
    {
     "data": {
      "text/html": [
       "<div>\n",
       "<style scoped>\n",
       "    .dataframe tbody tr th:only-of-type {\n",
       "        vertical-align: middle;\n",
       "    }\n",
       "\n",
       "    .dataframe tbody tr th {\n",
       "        vertical-align: top;\n",
       "    }\n",
       "\n",
       "    .dataframe thead th {\n",
       "        text-align: right;\n",
       "    }\n",
       "</style>\n",
       "<table border=\"1\" class=\"dataframe\">\n",
       "  <thead>\n",
       "    <tr style=\"text-align: right;\">\n",
       "      <th></th>\n",
       "      <th>Recency</th>\n",
       "      <th>Frequency</th>\n",
       "      <th>Monetary</th>\n",
       "      <th>r_score</th>\n",
       "      <th>f_score</th>\n",
       "      <th>m_score</th>\n",
       "      <th>RFM_score</th>\n",
       "      <th>RFM_group</th>\n",
       "    </tr>\n",
       "    <tr>\n",
       "      <th>Customer ID</th>\n",
       "      <th></th>\n",
       "      <th></th>\n",
       "      <th></th>\n",
       "      <th></th>\n",
       "      <th></th>\n",
       "      <th></th>\n",
       "      <th></th>\n",
       "      <th></th>\n",
       "    </tr>\n",
       "  </thead>\n",
       "  <tbody>\n",
       "    <tr>\n",
       "      <td>AA-10315</td>\n",
       "      <td>9</td>\n",
       "      <td>19</td>\n",
       "      <td>13747.41300</td>\n",
       "      <td>1</td>\n",
       "      <td>2</td>\n",
       "      <td>1</td>\n",
       "      <td>121</td>\n",
       "      <td>4</td>\n",
       "    </tr>\n",
       "    <tr>\n",
       "      <td>AA-10375</td>\n",
       "      <td>7</td>\n",
       "      <td>23</td>\n",
       "      <td>5884.19500</td>\n",
       "      <td>1</td>\n",
       "      <td>2</td>\n",
       "      <td>3</td>\n",
       "      <td>123</td>\n",
       "      <td>6</td>\n",
       "    </tr>\n",
       "    <tr>\n",
       "      <td>AA-10480</td>\n",
       "      <td>126</td>\n",
       "      <td>20</td>\n",
       "      <td>17695.58978</td>\n",
       "      <td>4</td>\n",
       "      <td>2</td>\n",
       "      <td>1</td>\n",
       "      <td>421</td>\n",
       "      <td>7</td>\n",
       "    </tr>\n",
       "  </tbody>\n",
       "</table>\n",
       "</div>"
      ],
      "text/plain": [
       "             Recency  Frequency     Monetary r_score f_score m_score  \\\n",
       "Customer ID                                                            \n",
       "AA-10315           9         19  13747.41300       1       2       1   \n",
       "AA-10375           7         23   5884.19500       1       2       3   \n",
       "AA-10480         126         20  17695.58978       4       2       1   \n",
       "\n",
       "            RFM_score  RFM_group  \n",
       "Customer ID                       \n",
       "AA-10315          121          4  \n",
       "AA-10375          123          6  \n",
       "AA-10480          421          7  "
      ]
     },
     "execution_count": 38,
     "metadata": {},
     "output_type": "execute_result"
    }
   ],
   "source": [
    "# Numerical addition of RFM_score which is RFM_group\n",
    "rfm['RFM_group'] = rfm['r_score'].astype(int)+ rfm['f_score'].astype(int) + rfm['m_score'].astype(int)\n",
    "rfm.head(3)"
   ]
  },
  {
   "cell_type": "markdown",
   "metadata": {},
   "source": [
    "### These are top 10 best customers...!!!"
   ]
  },
  {
   "cell_type": "code",
   "execution_count": 50,
   "metadata": {},
   "outputs": [
    {
     "data": {
      "text/html": [
       "<div>\n",
       "<style scoped>\n",
       "    .dataframe tbody tr th:only-of-type {\n",
       "        vertical-align: middle;\n",
       "    }\n",
       "\n",
       "    .dataframe tbody tr th {\n",
       "        vertical-align: top;\n",
       "    }\n",
       "\n",
       "    .dataframe thead th {\n",
       "        text-align: right;\n",
       "    }\n",
       "</style>\n",
       "<table border=\"1\" class=\"dataframe\">\n",
       "  <thead>\n",
       "    <tr style=\"text-align: right;\">\n",
       "      <th></th>\n",
       "      <th>Recency</th>\n",
       "      <th>Frequency</th>\n",
       "      <th>Monetary</th>\n",
       "      <th>r_score</th>\n",
       "      <th>f_score</th>\n",
       "      <th>m_score</th>\n",
       "      <th>RFM_score</th>\n",
       "      <th>RFM_group</th>\n",
       "      <th>Loyalty</th>\n",
       "    </tr>\n",
       "    <tr>\n",
       "      <th>Customer ID</th>\n",
       "      <th></th>\n",
       "      <th></th>\n",
       "      <th></th>\n",
       "      <th></th>\n",
       "      <th></th>\n",
       "      <th></th>\n",
       "      <th></th>\n",
       "      <th></th>\n",
       "      <th></th>\n",
       "    </tr>\n",
       "  </thead>\n",
       "  <tbody>\n",
       "    <tr>\n",
       "      <td>GT-14710</td>\n",
       "      <td>9</td>\n",
       "      <td>30</td>\n",
       "      <td>34471.89028</td>\n",
       "      <td>1</td>\n",
       "      <td>1</td>\n",
       "      <td>1</td>\n",
       "      <td>111</td>\n",
       "      <td>3</td>\n",
       "      <td>Platinum</td>\n",
       "    </tr>\n",
       "    <tr>\n",
       "      <td>SE-20110</td>\n",
       "      <td>10</td>\n",
       "      <td>36</td>\n",
       "      <td>29532.62502</td>\n",
       "      <td>1</td>\n",
       "      <td>1</td>\n",
       "      <td>1</td>\n",
       "      <td>111</td>\n",
       "      <td>3</td>\n",
       "      <td>Platinum</td>\n",
       "    </tr>\n",
       "    <tr>\n",
       "      <td>ZC-21910</td>\n",
       "      <td>4</td>\n",
       "      <td>37</td>\n",
       "      <td>28472.81926</td>\n",
       "      <td>1</td>\n",
       "      <td>1</td>\n",
       "      <td>1</td>\n",
       "      <td>111</td>\n",
       "      <td>3</td>\n",
       "      <td>Platinum</td>\n",
       "    </tr>\n",
       "    <tr>\n",
       "      <td>SP-20920</td>\n",
       "      <td>7</td>\n",
       "      <td>28</td>\n",
       "      <td>28124.21286</td>\n",
       "      <td>1</td>\n",
       "      <td>1</td>\n",
       "      <td>1</td>\n",
       "      <td>111</td>\n",
       "      <td>3</td>\n",
       "      <td>Platinum</td>\n",
       "    </tr>\n",
       "    <tr>\n",
       "      <td>NF-18385</td>\n",
       "      <td>8</td>\n",
       "      <td>32</td>\n",
       "      <td>28044.35950</td>\n",
       "      <td>1</td>\n",
       "      <td>1</td>\n",
       "      <td>1</td>\n",
       "      <td>111</td>\n",
       "      <td>3</td>\n",
       "      <td>Platinum</td>\n",
       "    </tr>\n",
       "    <tr>\n",
       "      <td>...</td>\n",
       "      <td>...</td>\n",
       "      <td>...</td>\n",
       "      <td>...</td>\n",
       "      <td>...</td>\n",
       "      <td>...</td>\n",
       "      <td>...</td>\n",
       "      <td>...</td>\n",
       "      <td>...</td>\n",
       "      <td>...</td>\n",
       "    </tr>\n",
       "    <tr>\n",
       "      <td>JL-15175</td>\n",
       "      <td>7</td>\n",
       "      <td>27</td>\n",
       "      <td>13499.87246</td>\n",
       "      <td>1</td>\n",
       "      <td>1</td>\n",
       "      <td>1</td>\n",
       "      <td>111</td>\n",
       "      <td>3</td>\n",
       "      <td>Platinum</td>\n",
       "    </tr>\n",
       "    <tr>\n",
       "      <td>DS-13180</td>\n",
       "      <td>15</td>\n",
       "      <td>31</td>\n",
       "      <td>13447.41200</td>\n",
       "      <td>1</td>\n",
       "      <td>1</td>\n",
       "      <td>1</td>\n",
       "      <td>111</td>\n",
       "      <td>3</td>\n",
       "      <td>Platinum</td>\n",
       "    </tr>\n",
       "    <tr>\n",
       "      <td>EB-13975</td>\n",
       "      <td>1</td>\n",
       "      <td>32</td>\n",
       "      <td>13405.60130</td>\n",
       "      <td>1</td>\n",
       "      <td>1</td>\n",
       "      <td>1</td>\n",
       "      <td>111</td>\n",
       "      <td>3</td>\n",
       "      <td>Platinum</td>\n",
       "    </tr>\n",
       "    <tr>\n",
       "      <td>BD-11320</td>\n",
       "      <td>6</td>\n",
       "      <td>32</td>\n",
       "      <td>13390.26700</td>\n",
       "      <td>1</td>\n",
       "      <td>1</td>\n",
       "      <td>1</td>\n",
       "      <td>111</td>\n",
       "      <td>3</td>\n",
       "      <td>Platinum</td>\n",
       "    </tr>\n",
       "    <tr>\n",
       "      <td>MG-17890</td>\n",
       "      <td>6</td>\n",
       "      <td>29</td>\n",
       "      <td>13162.24890</td>\n",
       "      <td>1</td>\n",
       "      <td>1</td>\n",
       "      <td>1</td>\n",
       "      <td>111</td>\n",
       "      <td>3</td>\n",
       "      <td>Platinum</td>\n",
       "    </tr>\n",
       "  </tbody>\n",
       "</table>\n",
       "<p>105 rows × 9 columns</p>\n",
       "</div>"
      ],
      "text/plain": [
       "             Recency  Frequency     Monetary r_score f_score m_score  \\\n",
       "Customer ID                                                            \n",
       "GT-14710           9         30  34471.89028       1       1       1   \n",
       "SE-20110          10         36  29532.62502       1       1       1   \n",
       "ZC-21910           4         37  28472.81926       1       1       1   \n",
       "SP-20920           7         28  28124.21286       1       1       1   \n",
       "NF-18385           8         32  28044.35950       1       1       1   \n",
       "...              ...        ...          ...     ...     ...     ...   \n",
       "JL-15175           7         27  13499.87246       1       1       1   \n",
       "DS-13180          15         31  13447.41200       1       1       1   \n",
       "EB-13975           1         32  13405.60130       1       1       1   \n",
       "BD-11320           6         32  13390.26700       1       1       1   \n",
       "MG-17890           6         29  13162.24890       1       1       1   \n",
       "\n",
       "            RFM_score  RFM_group   Loyalty  \n",
       "Customer ID                                 \n",
       "GT-14710          111          3  Platinum  \n",
       "SE-20110          111          3  Platinum  \n",
       "ZC-21910          111          3  Platinum  \n",
       "SP-20920          111          3  Platinum  \n",
       "NF-18385          111          3  Platinum  \n",
       "...               ...        ...       ...  \n",
       "JL-15175          111          3  Platinum  \n",
       "DS-13180          111          3  Platinum  \n",
       "EB-13975          111          3  Platinum  \n",
       "BD-11320          111          3  Platinum  \n",
       "MG-17890          111          3  Platinum  \n",
       "\n",
       "[105 rows x 9 columns]"
      ]
     },
     "execution_count": 50,
     "metadata": {},
     "output_type": "execute_result"
    }
   ],
   "source": [
    "# finding Top ten customer\n",
    "rfm[rfm['RFM_score']=='111'].sort_values('Monetary', ascending=False)"
   ]
  },
  {
   "cell_type": "markdown",
   "metadata": {},
   "source": [
    "### Customer Classes"
   ]
  },
  {
   "cell_type": "code",
   "execution_count": 40,
   "metadata": {
    "scrolled": true
   },
   "outputs": [
    {
     "data": {
      "text/html": [
       "<div>\n",
       "<style scoped>\n",
       "    .dataframe tbody tr th:only-of-type {\n",
       "        vertical-align: middle;\n",
       "    }\n",
       "\n",
       "    .dataframe tbody tr th {\n",
       "        vertical-align: top;\n",
       "    }\n",
       "\n",
       "    .dataframe thead th {\n",
       "        text-align: right;\n",
       "    }\n",
       "</style>\n",
       "<table border=\"1\" class=\"dataframe\">\n",
       "  <thead>\n",
       "    <tr style=\"text-align: right;\">\n",
       "      <th></th>\n",
       "      <th>Customer ID</th>\n",
       "      <th>Recency</th>\n",
       "      <th>Frequency</th>\n",
       "      <th>Monetary</th>\n",
       "      <th>r_score</th>\n",
       "      <th>f_score</th>\n",
       "      <th>m_score</th>\n",
       "      <th>RFM_score</th>\n",
       "      <th>RFM_group</th>\n",
       "      <th>Loyalty</th>\n",
       "    </tr>\n",
       "  </thead>\n",
       "  <tbody>\n",
       "    <tr>\n",
       "      <td>43</td>\n",
       "      <td>AG-10765</td>\n",
       "      <td>29</td>\n",
       "      <td>27</td>\n",
       "      <td>9824.7795</td>\n",
       "      <td>2</td>\n",
       "      <td>1</td>\n",
       "      <td>2</td>\n",
       "      <td>212</td>\n",
       "      <td>5</td>\n",
       "      <td>Platinum</td>\n",
       "    </tr>\n",
       "    <tr>\n",
       "      <td>1539</td>\n",
       "      <td>TS-21655</td>\n",
       "      <td>85</td>\n",
       "      <td>24</td>\n",
       "      <td>9525.4572</td>\n",
       "      <td>3</td>\n",
       "      <td>2</td>\n",
       "      <td>2</td>\n",
       "      <td>322</td>\n",
       "      <td>7</td>\n",
       "      <td>Gold</td>\n",
       "    </tr>\n",
       "    <tr>\n",
       "      <td>1066</td>\n",
       "      <td>MP-17470</td>\n",
       "      <td>6</td>\n",
       "      <td>28</td>\n",
       "      <td>12928.8028</td>\n",
       "      <td>1</td>\n",
       "      <td>1</td>\n",
       "      <td>2</td>\n",
       "      <td>112</td>\n",
       "      <td>4</td>\n",
       "      <td>Platinum</td>\n",
       "    </tr>\n",
       "  </tbody>\n",
       "</table>\n",
       "</div>"
      ],
      "text/plain": [
       "     Customer ID  Recency  Frequency    Monetary r_score f_score m_score  \\\n",
       "43      AG-10765       29         27   9824.7795       2       1       2   \n",
       "1539    TS-21655       85         24   9525.4572       3       2       2   \n",
       "1066    MP-17470        6         28  12928.8028       1       1       2   \n",
       "\n",
       "     RFM_score  RFM_group   Loyalty  \n",
       "43         212          5  Platinum  \n",
       "1539       322          7      Gold  \n",
       "1066       112          4  Platinum  "
      ]
     },
     "execution_count": 40,
     "metadata": {},
     "output_type": "execute_result"
    }
   ],
   "source": [
    "# class of customer example - Platinum, Gold and Silver.\n",
    "\n",
    "# Platinum Customer - frequent and more revenue generator.\n",
    "# Gold Customer - frequent but less revenue generator.\n",
    "# Silver Customer - less frequent and less revenue generator.\n",
    "\n",
    "levels=['Platinum','Gold','Silver']\n",
    "rfm['Loyalty']=pd.qcut(rfm.RFM_group,q=3,labels=levels)\n",
    "rfm.reset_index().sample(3)"
   ]
  },
  {
   "cell_type": "code",
   "execution_count": 41,
   "metadata": {},
   "outputs": [
    {
     "data": {
      "image/png": "[encoded data removed]",
      "text/plain": [
       "<Figure size 432x288 with 1 Axes>"
      ]
     },
     "metadata": {},
     "output_type": "display_data"
    }
   ],
   "source": [
    "sns.set(font_scale=1.4)\n",
    "rfm['Loyalty'].value_counts().plot(kind='bar', rot=0);\n",
    "plt.title('Customer Classes');"
   ]
  },
  {
   "cell_type": "markdown",
   "metadata": {},
   "source": [
    "## RFM Segments"
   ]
  },
  {
   "cell_type": "code",
   "execution_count": 3,
   "metadata": {},
   "outputs": [],
   "source": [
    "# https://github.com/pavano1760/Documents/blob/master/1.retail_project/1.3.png"
   ]
  },
  {
   "cell_type": "markdown",
   "metadata": {},
   "source": [
    "### 1.Loyal -Your Best Customers"
   ]
  },
  {
   "cell_type": "code",
   "execution_count": 42,
   "metadata": {},
   "outputs": [
    {
     "name": "stdout",
     "output_type": "stream",
     "text": [
      "Loyal(Most Loyal Customers)- 105\n"
     ]
    },
    {
     "data": {
      "image/png": "[encoded data removed]",
      "text/plain": [
       "<Figure size 432x288 with 1 Axes>"
      ]
     },
     "metadata": {},
     "output_type": "display_data"
    }
   ],
   "source": [
    "# RFM Code: 111\n",
    "print('Loyal(Most Loyal Customers)-',len(rfm[(rfm['RFM_score']=='111')]))\n",
    "labels = ['Total Customer','Loyal Customers(loyal)']\n",
    "sizes = [1590,105]\n",
    "fig1, ax1 = plt.subplots()\n",
    "colors = ['gold', 'lightcoral']\n",
    "explode = (0.1, 0, 0) \n",
    "ax1.pie(sizes,labels=labels,colors=colors, autopct='%1.1f%%',\n",
    "        shadow=True, startangle=50)\n",
    "# Equal aspect ratio ensures that pie is drawn as a circle\n",
    "ax1.axis('equal')  \n",
    "plt.tight_layout()\n",
    "plt.title('Loyal(Most Loyal Customers)');"
   ]
  },
  {
   "cell_type": "markdown",
   "metadata": {},
   "source": [
    "### 2.Whales - Highest Paying Customers"
   ]
  },
  {
   "cell_type": "code",
   "execution_count": 43,
   "metadata": {},
   "outputs": [
    {
     "name": "stdout",
     "output_type": "stream",
     "text": [
      "Whales(Highest Paying Customers)- 398\n"
     ]
    },
    {
     "data": {
      "image/png": "[encoded data removed]",
      "text/plain": [
       "<Figure size 432x288 with 1 Axes>"
      ]
     },
     "metadata": {},
     "output_type": "display_data"
    }
   ],
   "source": [
    "#RFM Code: XX1\n",
    "print('Whales(Highest Paying Customers)-',len(rfm[(rfm['m_score']=='1')]))\n",
    "labels = ['Total Customers','Whales']\n",
    "sizes = [1590,398]\n",
    "fig1, ax1 = plt.subplots()\n",
    "colors = ['yellow', 'lightcoral']\n",
    "explode = (0.1, 0, 0) \n",
    "ax1.pie(sizes,labels=labels,colors=colors, autopct='%1.1f%%',\n",
    "        shadow=True, startangle=90)\n",
    "# Equal aspect ratio ensures that pie is drawn as a circle\n",
    "ax1.axis('equal')  \n",
    "plt.tight_layout()\n",
    "plt.title('Whales - Your Highest Paying Customers');"
   ]
  },
  {
   "cell_type": "markdown",
   "metadata": {},
   "source": [
    "### 3. Promising - Faithful customers"
   ]
  },
  {
   "cell_type": "code",
   "execution_count": 44,
   "metadata": {},
   "outputs": [
    {
     "name": "stdout",
     "output_type": "stream",
     "text": [
      "Promising (Faithful customers)- 0\n"
     ]
    }
   ],
   "source": [
    "# RFM Code: X13\n",
    "print('Promising (Faithful customers)-',len(rfm[(rfm['f_score']=='1') & (rfm['m_score']=='3')])) "
   ]
  },
  {
   "cell_type": "markdown",
   "metadata": {},
   "source": [
    "### 4.Rookies-Newest Customers"
   ]
  },
  {
   "cell_type": "code",
   "execution_count": 45,
   "metadata": {},
   "outputs": [
    {
     "name": "stdout",
     "output_type": "stream",
     "text": [
      "Rookies(Your Newest Customers)- 49\n"
     ]
    },
    {
     "data": {
      "image/png": "[encoded data removed]",
      "text/plain": [
       "<Figure size 432x288 with 1 Axes>"
      ]
     },
     "metadata": {},
     "output_type": "display_data"
    }
   ],
   "source": [
    "#RFM Code: 14X\n",
    "# rscore1=418,fscore4=433\n",
    "print('Rookies(Your Newest Customers)-',len(rfm[(rfm['r_score']=='1') & (rfm['f_score']=='4') ]))\n",
    "venn2(subsets = (418,433,49), set_labels = (\"R_score=1\",\"F_score=4\"), set_colors=('r', 'g'), alpha = 0.5);\n",
    "venn2_circles(subsets = (418,433,49));\n",
    "plt.title('Rookies-Your Newest Customers');"
   ]
  },
  {
   "cell_type": "markdown",
   "metadata": {},
   "source": [
    "### 5.Slipping-Once Loyal, Now Gone"
   ]
  },
  {
   "cell_type": "code",
   "execution_count": 48,
   "metadata": {},
   "outputs": [
    {
     "name": "stdout",
     "output_type": "stream",
     "text": [
      "Slipping (Once Loyal,Now Gone)- 258\n"
     ]
    },
    {
     "data": {
      "image/png": "[encoded data removed]",
      "text/plain": [
       "<Figure size 432x288 with 1 Axes>"
      ]
     },
     "metadata": {},
     "output_type": "display_data"
    }
   ],
   "source": [
    "#RFM Code: 44X\n",
    "print('Slipping (Once Loyal,Now Gone)-',len(rfm[(rfm['r_score']=='4') & (rfm['f_score']=='4') ]))\n",
    "venn2(subsets = (396,433,258), set_labels = (\"R_score=4\",\"F_score=4\"), set_colors=('r', 'g'), alpha = 0.5);\n",
    "venn2_circles(subsets = (396,433,251));\n",
    "plt.title('Slipping (Once Loyal,Now Gone)');"
   ]
  },
  {
   "cell_type": "code",
   "execution_count": null,
   "metadata": {},
   "outputs": [],
   "source": []
  },
  {
   "cell_type": "markdown",
   "metadata": {},
   "source": [
    "## End of notebook..."
   ]
  }
 ],
 "metadata": {
  "kernelspec": {
   "display_name": "Python 3",
   "language": "python",
   "name": "python3"
  },
  "language_info": {
   "codemirror_mode": {
    "name": "ipython",
    "version": 3
   },
   "file_extension": ".py",
   "mimetype": "text/x-python",
   "name": "python",
   "nbconvert_exporter": "python",
   "pygments_lexer": "ipython3",
   "version": "3.7.4"
  }
 },
 "nbformat": 4,
 "nbformat_minor": 2
}
