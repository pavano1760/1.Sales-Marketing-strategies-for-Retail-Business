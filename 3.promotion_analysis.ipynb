{
 "cells": [
  {
   "cell_type": "markdown",
   "metadata": {},
   "source": [
    "## 3.Problem Statement: Which categories respond the most to which promotions?,What are the most effective promotions to reach target customers?¶"
   ]
  },
  {
   "cell_type": "markdown",
   "metadata": {},
   "source": [
    "- #### Strategy : find relation of diffrent mediums with respect to Sales.predict next conditions using Linear Regres\n",
    "\n",
    "- #### Data: Dataset for an over-the-counter food item in about 4000 stores of two years."
   ]
  },
  {
   "cell_type": "code",
   "execution_count": 2,
   "metadata": {},
   "outputs": [
    {
     "data": {
      "text/html": [
       "<div>\n",
       "<style scoped>\n",
       "    .dataframe tbody tr th:only-of-type {\n",
       "        vertical-align: middle;\n",
       "    }\n",
       "\n",
       "    .dataframe tbody tr th {\n",
       "        vertical-align: top;\n",
       "    }\n",
       "\n",
       "    .dataframe thead th {\n",
       "        text-align: right;\n",
       "    }\n",
       "</style>\n",
       "<table border=\"1\" class=\"dataframe\">\n",
       "  <thead>\n",
       "    <tr style=\"text-align: right;\">\n",
       "      <th></th>\n",
       "      <th>Price</th>\n",
       "      <th>Radio</th>\n",
       "      <th>StockOut</th>\n",
       "      <th>TV</th>\n",
       "      <th>Instore</th>\n",
       "      <th>Discount</th>\n",
       "      <th>Website_Campaign</th>\n",
       "      <th>NewspaperInserts</th>\n",
       "      <th>NewVolSales</th>\n",
       "    </tr>\n",
       "  </thead>\n",
       "  <tbody>\n",
       "    <tr>\n",
       "      <td>0</td>\n",
       "      <td>2.71</td>\n",
       "      <td>245</td>\n",
       "      <td>2.28342</td>\n",
       "      <td>145.4</td>\n",
       "      <td>15.452</td>\n",
       "      <td>0.00</td>\n",
       "      <td>NaN</td>\n",
       "      <td>NaN</td>\n",
       "      <td>19564</td>\n",
       "    </tr>\n",
       "    <tr>\n",
       "      <td>1</td>\n",
       "      <td>2.71</td>\n",
       "      <td>314</td>\n",
       "      <td>2.22134</td>\n",
       "      <td>66.0</td>\n",
       "      <td>16.388</td>\n",
       "      <td>0.00</td>\n",
       "      <td>NaN</td>\n",
       "      <td>NaN</td>\n",
       "      <td>19387</td>\n",
       "    </tr>\n",
       "    <tr>\n",
       "      <td>2</td>\n",
       "      <td>2.68</td>\n",
       "      <td>324</td>\n",
       "      <td>2.00604</td>\n",
       "      <td>155.1</td>\n",
       "      <td>62.692</td>\n",
       "      <td>0.05</td>\n",
       "      <td>NaN</td>\n",
       "      <td>NaN</td>\n",
       "      <td>23889</td>\n",
       "    </tr>\n",
       "  </tbody>\n",
       "</table>\n",
       "</div>"
      ],
      "text/plain": [
       "   Price  Radio  StockOut     TV  Instore  Discount Website_Campaign  \\\n",
       "0   2.71    245   2.28342  145.4   15.452      0.00              NaN   \n",
       "1   2.71    314   2.22134   66.0   16.388      0.00              NaN   \n",
       "2   2.68    324   2.00604  155.1   62.692      0.05              NaN   \n",
       "\n",
       "  NewspaperInserts  NewVolSales  \n",
       "0              NaN        19564  \n",
       "1              NaN        19387  \n",
       "2              NaN        23889  "
      ]
     },
     "execution_count": 2,
     "metadata": {},
     "output_type": "execute_result"
    }
   ],
   "source": [
    "import numpy as np\n",
    "import pandas as pd\n",
    "import matplotlib.pyplot as plt\n",
    "%matplotlib inline\n",
    "import seaborn as sns\n",
    "import warnings\n",
    "\n",
    "from sklearn.model_selection import train_test_split\n",
    "from sklearn.linear_model import LinearRegression\n",
    "from sklearn import metrics\n",
    "warnings.filterwarnings('ignore')\n",
    "file=pd.read_excel('C:/datalake/project_retail/master_dataset.xlsx', sheet_name='promotion')\n",
    "file.head(3)"
   ]
  },
  {
   "cell_type": "code",
   "execution_count": 3,
   "metadata": {},
   "outputs": [],
   "source": [
    "# dropping columns of ,because there are almost all missing values\n",
    "del file['Website_Campaign']\n",
    "del file['NewspaperInserts']"
   ]
  },
  {
   "cell_type": "code",
   "execution_count": 4,
   "metadata": {},
   "outputs": [
    {
     "data": {
      "text/html": [
       "<div>\n",
       "<style scoped>\n",
       "    .dataframe tbody tr th:only-of-type {\n",
       "        vertical-align: middle;\n",
       "    }\n",
       "\n",
       "    .dataframe tbody tr th {\n",
       "        vertical-align: top;\n",
       "    }\n",
       "\n",
       "    .dataframe thead th {\n",
       "        text-align: right;\n",
       "    }\n",
       "</style>\n",
       "<table border=\"1\" class=\"dataframe\">\n",
       "  <thead>\n",
       "    <tr style=\"text-align: right;\">\n",
       "      <th></th>\n",
       "      <th>Price</th>\n",
       "      <th>Radio</th>\n",
       "      <th>StockOut</th>\n",
       "      <th>TV</th>\n",
       "      <th>Instore</th>\n",
       "      <th>Discount</th>\n",
       "      <th>NewVolSales</th>\n",
       "    </tr>\n",
       "  </thead>\n",
       "  <tbody>\n",
       "    <tr>\n",
       "      <td>39</td>\n",
       "      <td>2.78</td>\n",
       "      <td>236</td>\n",
       "      <td>2.23971</td>\n",
       "      <td>146.0</td>\n",
       "      <td>16.684</td>\n",
       "      <td>0.0</td>\n",
       "      <td>18502</td>\n",
       "    </tr>\n",
       "    <tr>\n",
       "      <td>22</td>\n",
       "      <td>2.73</td>\n",
       "      <td>345</td>\n",
       "      <td>2.15272</td>\n",
       "      <td>140.3</td>\n",
       "      <td>13.659</td>\n",
       "      <td>0.0</td>\n",
       "      <td>21139</td>\n",
       "    </tr>\n",
       "    <tr>\n",
       "      <td>98</td>\n",
       "      <td>2.75</td>\n",
       "      <td>280</td>\n",
       "      <td>2.80214</td>\n",
       "      <td>193.9</td>\n",
       "      <td>38.735</td>\n",
       "      <td>0.0</td>\n",
       "      <td>19126</td>\n",
       "    </tr>\n",
       "    <tr>\n",
       "      <td>97</td>\n",
       "      <td>2.76</td>\n",
       "      <td>239</td>\n",
       "      <td>2.73840</td>\n",
       "      <td>195.8</td>\n",
       "      <td>39.253</td>\n",
       "      <td>0.0</td>\n",
       "      <td>18312</td>\n",
       "    </tr>\n",
       "    <tr>\n",
       "      <td>7</td>\n",
       "      <td>2.74</td>\n",
       "      <td>290</td>\n",
       "      <td>2.63739</td>\n",
       "      <td>129.8</td>\n",
       "      <td>16.617</td>\n",
       "      <td>0.0</td>\n",
       "      <td>19033</td>\n",
       "    </tr>\n",
       "  </tbody>\n",
       "</table>\n",
       "</div>"
      ],
      "text/plain": [
       "    Price  Radio  StockOut     TV  Instore  Discount  NewVolSales\n",
       "39   2.78    236   2.23971  146.0   16.684       0.0        18502\n",
       "22   2.73    345   2.15272  140.3   13.659       0.0        21139\n",
       "98   2.75    280   2.80214  193.9   38.735       0.0        19126\n",
       "97   2.76    239   2.73840  195.8   39.253       0.0        18312\n",
       "7    2.74    290   2.63739  129.8   16.617       0.0        19033"
      ]
     },
     "execution_count": 4,
     "metadata": {},
     "output_type": "execute_result"
    }
   ],
   "source": [
    "df=file\n",
    "df.sample(5)"
   ]
  },
  {
   "cell_type": "markdown",
   "metadata": {},
   "source": [
    "- ### Which medium is good for promotion aither TV or Radio or Instore?"
   ]
  },
  {
   "cell_type": "code",
   "execution_count": 5,
   "metadata": {},
   "outputs": [
    {
     "data": {
      "text/html": [
       "<style  type=\"text/css\" >\n",
       "    #T_7997a202_9fcf_11ea_a011_283926a16c3crow0_col0 {\n",
       "            background-color:  #b40426;\n",
       "            color:  #f1f1f1;\n",
       "        }    #T_7997a202_9fcf_11ea_a011_283926a16c3crow0_col1 {\n",
       "            background-color:  #7093f3;\n",
       "            color:  #000000;\n",
       "        }    #T_7997a202_9fcf_11ea_a011_283926a16c3crow0_col2 {\n",
       "            background-color:  #80a3fa;\n",
       "            color:  #000000;\n",
       "        }    #T_7997a202_9fcf_11ea_a011_283926a16c3crow0_col3 {\n",
       "            background-color:  #6384eb;\n",
       "            color:  #000000;\n",
       "        }    #T_7997a202_9fcf_11ea_a011_283926a16c3crow0_col4 {\n",
       "            background-color:  #3b4cc0;\n",
       "            color:  #f1f1f1;\n",
       "        }    #T_7997a202_9fcf_11ea_a011_283926a16c3crow0_col5 {\n",
       "            background-color:  #3b4cc0;\n",
       "            color:  #f1f1f1;\n",
       "        }    #T_7997a202_9fcf_11ea_a011_283926a16c3crow0_col6 {\n",
       "            background-color:  #3b4cc0;\n",
       "            color:  #f1f1f1;\n",
       "        }    #T_7997a202_9fcf_11ea_a011_283926a16c3crow1_col0 {\n",
       "            background-color:  #cedaeb;\n",
       "            color:  #000000;\n",
       "        }    #T_7997a202_9fcf_11ea_a011_283926a16c3crow1_col1 {\n",
       "            background-color:  #b40426;\n",
       "            color:  #f1f1f1;\n",
       "        }    #T_7997a202_9fcf_11ea_a011_283926a16c3crow1_col2 {\n",
       "            background-color:  #5a78e4;\n",
       "            color:  #000000;\n",
       "        }    #T_7997a202_9fcf_11ea_a011_283926a16c3crow1_col3 {\n",
       "            background-color:  #5673e0;\n",
       "            color:  #000000;\n",
       "        }    #T_7997a202_9fcf_11ea_a011_283926a16c3crow1_col4 {\n",
       "            background-color:  #7a9df8;\n",
       "            color:  #000000;\n",
       "        }    #T_7997a202_9fcf_11ea_a011_283926a16c3crow1_col5 {\n",
       "            background-color:  #98b9ff;\n",
       "            color:  #000000;\n",
       "        }    #T_7997a202_9fcf_11ea_a011_283926a16c3crow1_col6 {\n",
       "            background-color:  #cdd9ec;\n",
       "            color:  #000000;\n",
       "        }    #T_7997a202_9fcf_11ea_a011_283926a16c3crow2_col0 {\n",
       "            background-color:  #c5d6f2;\n",
       "            color:  #000000;\n",
       "        }    #T_7997a202_9fcf_11ea_a011_283926a16c3crow2_col1 {\n",
       "            background-color:  #3b4cc0;\n",
       "            color:  #f1f1f1;\n",
       "        }    #T_7997a202_9fcf_11ea_a011_283926a16c3crow2_col2 {\n",
       "            background-color:  #b40426;\n",
       "            color:  #f1f1f1;\n",
       "        }    #T_7997a202_9fcf_11ea_a011_283926a16c3crow2_col3 {\n",
       "            background-color:  #3b4cc0;\n",
       "            color:  #f1f1f1;\n",
       "        }    #T_7997a202_9fcf_11ea_a011_283926a16c3crow2_col4 {\n",
       "            background-color:  #7ea1fa;\n",
       "            color:  #000000;\n",
       "        }    #T_7997a202_9fcf_11ea_a011_283926a16c3crow2_col5 {\n",
       "            background-color:  #6687ed;\n",
       "            color:  #000000;\n",
       "        }    #T_7997a202_9fcf_11ea_a011_283926a16c3crow2_col6 {\n",
       "            background-color:  #8fb1fe;\n",
       "            color:  #000000;\n",
       "        }    #T_7997a202_9fcf_11ea_a011_283926a16c3crow3_col0 {\n",
       "            background-color:  #cfdaea;\n",
       "            color:  #000000;\n",
       "        }    #T_7997a202_9fcf_11ea_a011_283926a16c3crow3_col1 {\n",
       "            background-color:  #6485ec;\n",
       "            color:  #000000;\n",
       "        }    #T_7997a202_9fcf_11ea_a011_283926a16c3crow3_col2 {\n",
       "            background-color:  #688aef;\n",
       "            color:  #000000;\n",
       "        }    #T_7997a202_9fcf_11ea_a011_283926a16c3crow3_col3 {\n",
       "            background-color:  #b40426;\n",
       "            color:  #f1f1f1;\n",
       "        }    #T_7997a202_9fcf_11ea_a011_283926a16c3crow3_col4 {\n",
       "            background-color:  #7597f6;\n",
       "            color:  #000000;\n",
       "        }    #T_7997a202_9fcf_11ea_a011_283926a16c3crow3_col5 {\n",
       "            background-color:  #8db0fe;\n",
       "            color:  #000000;\n",
       "        }    #T_7997a202_9fcf_11ea_a011_283926a16c3crow3_col6 {\n",
       "            background-color:  #dedcdb;\n",
       "            color:  #000000;\n",
       "        }    #T_7997a202_9fcf_11ea_a011_283926a16c3crow4_col0 {\n",
       "            background-color:  #9ebeff;\n",
       "            color:  #000000;\n",
       "        }    #T_7997a202_9fcf_11ea_a011_283926a16c3crow4_col1 {\n",
       "            background-color:  #6a8bef;\n",
       "            color:  #000000;\n",
       "        }    #T_7997a202_9fcf_11ea_a011_283926a16c3crow4_col2 {\n",
       "            background-color:  #8fb1fe;\n",
       "            color:  #000000;\n",
       "        }    #T_7997a202_9fcf_11ea_a011_283926a16c3crow4_col3 {\n",
       "            background-color:  #5875e1;\n",
       "            color:  #000000;\n",
       "        }    #T_7997a202_9fcf_11ea_a011_283926a16c3crow4_col4 {\n",
       "            background-color:  #b40426;\n",
       "            color:  #f1f1f1;\n",
       "        }    #T_7997a202_9fcf_11ea_a011_283926a16c3crow4_col5 {\n",
       "            background-color:  #f39475;\n",
       "            color:  #000000;\n",
       "        }    #T_7997a202_9fcf_11ea_a011_283926a16c3crow4_col6 {\n",
       "            background-color:  #f7b89c;\n",
       "            color:  #000000;\n",
       "        }    #T_7997a202_9fcf_11ea_a011_283926a16c3crow5_col0 {\n",
       "            background-color:  #a6c4fe;\n",
       "            color:  #000000;\n",
       "        }    #T_7997a202_9fcf_11ea_a011_283926a16c3crow5_col1 {\n",
       "            background-color:  #94b6ff;\n",
       "            color:  #000000;\n",
       "        }    #T_7997a202_9fcf_11ea_a011_283926a16c3crow5_col2 {\n",
       "            background-color:  #81a4fb;\n",
       "            color:  #000000;\n",
       "        }    #T_7997a202_9fcf_11ea_a011_283926a16c3crow5_col3 {\n",
       "            background-color:  #7b9ff9;\n",
       "            color:  #000000;\n",
       "        }    #T_7997a202_9fcf_11ea_a011_283926a16c3crow5_col4 {\n",
       "            background-color:  #f29072;\n",
       "            color:  #000000;\n",
       "        }    #T_7997a202_9fcf_11ea_a011_283926a16c3crow5_col5 {\n",
       "            background-color:  #b40426;\n",
       "            color:  #f1f1f1;\n",
       "        }    #T_7997a202_9fcf_11ea_a011_283926a16c3crow5_col6 {\n",
       "            background-color:  #f6bfa6;\n",
       "            color:  #000000;\n",
       "        }    #T_7997a202_9fcf_11ea_a011_283926a16c3crow6_col0 {\n",
       "            background-color:  #3b4cc0;\n",
       "            color:  #f1f1f1;\n",
       "        }    #T_7997a202_9fcf_11ea_a011_283926a16c3crow6_col1 {\n",
       "            background-color:  #6f92f3;\n",
       "            color:  #000000;\n",
       "        }    #T_7997a202_9fcf_11ea_a011_283926a16c3crow6_col2 {\n",
       "            background-color:  #3b4cc0;\n",
       "            color:  #f1f1f1;\n",
       "        }    #T_7997a202_9fcf_11ea_a011_283926a16c3crow6_col3 {\n",
       "            background-color:  #82a6fb;\n",
       "            color:  #000000;\n",
       "        }    #T_7997a202_9fcf_11ea_a011_283926a16c3crow6_col4 {\n",
       "            background-color:  #e2dad5;\n",
       "            color:  #000000;\n",
       "        }    #T_7997a202_9fcf_11ea_a011_283926a16c3crow6_col5 {\n",
       "            background-color:  #d5dbe5;\n",
       "            color:  #000000;\n",
       "        }    #T_7997a202_9fcf_11ea_a011_283926a16c3crow6_col6 {\n",
       "            background-color:  #b40426;\n",
       "            color:  #f1f1f1;\n",
       "        }</style><table id=\"T_7997a202_9fcf_11ea_a011_283926a16c3c\" ><thead>    <tr>        <th class=\"blank level0\" ></th>        <th class=\"col_heading level0 col0\" >Price</th>        <th class=\"col_heading level0 col1\" >Radio</th>        <th class=\"col_heading level0 col2\" >StockOut</th>        <th class=\"col_heading level0 col3\" >TV</th>        <th class=\"col_heading level0 col4\" >Instore</th>        <th class=\"col_heading level0 col5\" >Discount</th>        <th class=\"col_heading level0 col6\" >NewVolSales</th>    </tr></thead><tbody>\n",
       "                <tr>\n",
       "                        <th id=\"T_7997a202_9fcf_11ea_a011_283926a16c3clevel0_row0\" class=\"row_heading level0 row0\" >Price</th>\n",
       "                        <td id=\"T_7997a202_9fcf_11ea_a011_283926a16c3crow0_col0\" class=\"data row0 col0\" >1</td>\n",
       "                        <td id=\"T_7997a202_9fcf_11ea_a011_283926a16c3crow0_col1\" class=\"data row0 col1\" >0.0298822</td>\n",
       "                        <td id=\"T_7997a202_9fcf_11ea_a011_283926a16c3crow0_col2\" class=\"data row0 col2\" >-0.030325</td>\n",
       "                        <td id=\"T_7997a202_9fcf_11ea_a011_283926a16c3crow0_col3\" class=\"data row0 col3\" >0.0314005</td>\n",
       "                        <td id=\"T_7997a202_9fcf_11ea_a011_283926a16c3crow0_col4\" class=\"data row0 col4\" >-0.233464</td>\n",
       "                        <td id=\"T_7997a202_9fcf_11ea_a011_283926a16c3crow0_col5\" class=\"data row0 col5\" >-0.192338</td>\n",
       "                        <td id=\"T_7997a202_9fcf_11ea_a011_283926a16c3crow0_col6\" class=\"data row0 col6\" >-0.758796</td>\n",
       "            </tr>\n",
       "            <tr>\n",
       "                        <th id=\"T_7997a202_9fcf_11ea_a011_283926a16c3clevel0_row1\" class=\"row_heading level0 row1\" >Radio</th>\n",
       "                        <td id=\"T_7997a202_9fcf_11ea_a011_283926a16c3crow1_col0\" class=\"data row1 col0\" >0.0298822</td>\n",
       "                        <td id=\"T_7997a202_9fcf_11ea_a011_283926a16c3crow1_col1\" class=\"data row1 col1\" >1</td>\n",
       "                        <td id=\"T_7997a202_9fcf_11ea_a011_283926a16c3crow1_col2\" class=\"data row1 col2\" >-0.169469</td>\n",
       "                        <td id=\"T_7997a202_9fcf_11ea_a011_283926a16c3crow1_col3\" class=\"data row1 col3\" >-0.0123375</td>\n",
       "                        <td id=\"T_7997a202_9fcf_11ea_a011_283926a16c3crow1_col4\" class=\"data row1 col4\" >0.00857814</td>\n",
       "                        <td id=\"T_7997a202_9fcf_11ea_a011_283926a16c3crow1_col5\" class=\"data row1 col5\" >0.147374</td>\n",
       "                        <td id=\"T_7997a202_9fcf_11ea_a011_283926a16c3crow1_col6\" class=\"data row1 col6\" >0.0236366</td>\n",
       "            </tr>\n",
       "            <tr>\n",
       "                        <th id=\"T_7997a202_9fcf_11ea_a011_283926a16c3clevel0_row2\" class=\"row_heading level0 row2\" >StockOut</th>\n",
       "                        <td id=\"T_7997a202_9fcf_11ea_a011_283926a16c3crow2_col0\" class=\"data row2 col0\" >-0.030325</td>\n",
       "                        <td id=\"T_7997a202_9fcf_11ea_a011_283926a16c3crow2_col1\" class=\"data row2 col1\" >-0.169469</td>\n",
       "                        <td id=\"T_7997a202_9fcf_11ea_a011_283926a16c3crow2_col2\" class=\"data row2 col2\" >1</td>\n",
       "                        <td id=\"T_7997a202_9fcf_11ea_a011_283926a16c3crow2_col3\" class=\"data row2 col3\" >-0.115148</td>\n",
       "                        <td id=\"T_7997a202_9fcf_11ea_a011_283926a16c3crow2_col4\" class=\"data row2 col4\" >0.0251078</td>\n",
       "                        <td id=\"T_7997a202_9fcf_11ea_a011_283926a16c3crow2_col5\" class=\"data row2 col5\" >-0.0255546</td>\n",
       "                        <td id=\"T_7997a202_9fcf_11ea_a011_283926a16c3crow2_col6\" class=\"data row2 col6\" >-0.307083</td>\n",
       "            </tr>\n",
       "            <tr>\n",
       "                        <th id=\"T_7997a202_9fcf_11ea_a011_283926a16c3clevel0_row3\" class=\"row_heading level0 row3\" >TV</th>\n",
       "                        <td id=\"T_7997a202_9fcf_11ea_a011_283926a16c3crow3_col0\" class=\"data row3 col0\" >0.0314005</td>\n",
       "                        <td id=\"T_7997a202_9fcf_11ea_a011_283926a16c3crow3_col1\" class=\"data row3 col1\" >-0.0123375</td>\n",
       "                        <td id=\"T_7997a202_9fcf_11ea_a011_283926a16c3crow3_col2\" class=\"data row3 col2\" >-0.115148</td>\n",
       "                        <td id=\"T_7997a202_9fcf_11ea_a011_283926a16c3crow3_col3\" class=\"data row3 col3\" >1</td>\n",
       "                        <td id=\"T_7997a202_9fcf_11ea_a011_283926a16c3crow3_col4\" class=\"data row3 col4\" >-0.00840286</td>\n",
       "                        <td id=\"T_7997a202_9fcf_11ea_a011_283926a16c3crow3_col5\" class=\"data row3 col5\" >0.110336</td>\n",
       "                        <td id=\"T_7997a202_9fcf_11ea_a011_283926a16c3crow3_col6\" class=\"data row3 col6\" >0.12955</td>\n",
       "            </tr>\n",
       "            <tr>\n",
       "                        <th id=\"T_7997a202_9fcf_11ea_a011_283926a16c3clevel0_row4\" class=\"row_heading level0 row4\" >Instore</th>\n",
       "                        <td id=\"T_7997a202_9fcf_11ea_a011_283926a16c3crow4_col0\" class=\"data row4 col0\" >-0.233464</td>\n",
       "                        <td id=\"T_7997a202_9fcf_11ea_a011_283926a16c3crow4_col1\" class=\"data row4 col1\" >0.00857814</td>\n",
       "                        <td id=\"T_7997a202_9fcf_11ea_a011_283926a16c3crow4_col2\" class=\"data row4 col2\" >0.0251078</td>\n",
       "                        <td id=\"T_7997a202_9fcf_11ea_a011_283926a16c3crow4_col3\" class=\"data row4 col3\" >-0.00840286</td>\n",
       "                        <td id=\"T_7997a202_9fcf_11ea_a011_283926a16c3crow4_col4\" class=\"data row4 col4\" >1</td>\n",
       "                        <td id=\"T_7997a202_9fcf_11ea_a011_283926a16c3crow4_col5\" class=\"data row4 col5\" >0.719376</td>\n",
       "                        <td id=\"T_7997a202_9fcf_11ea_a011_283926a16c3crow4_col6\" class=\"data row4 col6\" >0.411841</td>\n",
       "            </tr>\n",
       "            <tr>\n",
       "                        <th id=\"T_7997a202_9fcf_11ea_a011_283926a16c3clevel0_row5\" class=\"row_heading level0 row5\" >Discount</th>\n",
       "                        <td id=\"T_7997a202_9fcf_11ea_a011_283926a16c3crow5_col0\" class=\"data row5 col0\" >-0.192338</td>\n",
       "                        <td id=\"T_7997a202_9fcf_11ea_a011_283926a16c3crow5_col1\" class=\"data row5 col1\" >0.147374</td>\n",
       "                        <td id=\"T_7997a202_9fcf_11ea_a011_283926a16c3crow5_col2\" class=\"data row5 col2\" >-0.0255546</td>\n",
       "                        <td id=\"T_7997a202_9fcf_11ea_a011_283926a16c3crow5_col3\" class=\"data row5 col3\" >0.110336</td>\n",
       "                        <td id=\"T_7997a202_9fcf_11ea_a011_283926a16c3crow5_col4\" class=\"data row5 col4\" >0.719376</td>\n",
       "                        <td id=\"T_7997a202_9fcf_11ea_a011_283926a16c3crow5_col5\" class=\"data row5 col5\" >1</td>\n",
       "                        <td id=\"T_7997a202_9fcf_11ea_a011_283926a16c3crow5_col6\" class=\"data row5 col6\" >0.369898</td>\n",
       "            </tr>\n",
       "            <tr>\n",
       "                        <th id=\"T_7997a202_9fcf_11ea_a011_283926a16c3clevel0_row6\" class=\"row_heading level0 row6\" >NewVolSales</th>\n",
       "                        <td id=\"T_7997a202_9fcf_11ea_a011_283926a16c3crow6_col0\" class=\"data row6 col0\" >-0.758796</td>\n",
       "                        <td id=\"T_7997a202_9fcf_11ea_a011_283926a16c3crow6_col1\" class=\"data row6 col1\" >0.0236366</td>\n",
       "                        <td id=\"T_7997a202_9fcf_11ea_a011_283926a16c3crow6_col2\" class=\"data row6 col2\" >-0.307083</td>\n",
       "                        <td id=\"T_7997a202_9fcf_11ea_a011_283926a16c3crow6_col3\" class=\"data row6 col3\" >0.12955</td>\n",
       "                        <td id=\"T_7997a202_9fcf_11ea_a011_283926a16c3crow6_col4\" class=\"data row6 col4\" >0.411841</td>\n",
       "                        <td id=\"T_7997a202_9fcf_11ea_a011_283926a16c3crow6_col5\" class=\"data row6 col5\" >0.369898</td>\n",
       "                        <td id=\"T_7997a202_9fcf_11ea_a011_283926a16c3crow6_col6\" class=\"data row6 col6\" >1</td>\n",
       "            </tr>\n",
       "    </tbody></table>"
      ],
      "text/plain": [
       "<pandas.io.formats.style.Styler at 0x194f7d8be48>"
      ]
     },
     "execution_count": 5,
     "metadata": {},
     "output_type": "execute_result"
    }
   ],
   "source": [
    "corr = df.corr()\n",
    "corr.style.background_gradient(cmap='coolwarm')"
   ]
  },
  {
   "cell_type": "markdown",
   "metadata": {},
   "source": [
    "### Correleation betn TV ans Sales is more.so TV is the best medium to promotion campaign..."
   ]
  },
  {
   "cell_type": "markdown",
   "metadata": {},
   "source": [
    "- ### How Sales is changed over weeks."
   ]
  },
  {
   "cell_type": "code",
   "execution_count": 6,
   "metadata": {},
   "outputs": [
    {
     "data": {
      "text/plain": [
       "Text(0.5, 1.0, 'Sales changed over weeks')"
      ]
     },
     "execution_count": 6,
     "metadata": {},
     "output_type": "execute_result"
    },
    {
     "data": {
      "image/png": "[encoded data removed]",
      "text/plain": [
       "<Figure size 432x288 with 1 Axes>"
      ]
     },
     "metadata": {
      "needs_background": "light"
     },
     "output_type": "display_data"
    }
   ],
   "source": [
    "plt.plot( 'NewVolSales', 'y1', data=df, marker='o', markerfacecolor='red', markersize=8, color='black', linewidth=4)\n",
    "plt.title('Sales changed over weeks')"
   ]
  },
  {
   "cell_type": "markdown",
   "metadata": {},
   "source": [
    "- ### Out of stock condition in the store"
   ]
  },
  {
   "cell_type": "code",
   "execution_count": 7,
   "metadata": {},
   "outputs": [
    {
     "data": {
      "text/plain": [
       "Text(0.5, 1.0, 'Out of Stock happened over two years')"
      ]
     },
     "execution_count": 7,
     "metadata": {},
     "output_type": "execute_result"
    },
    {
     "data": {
      "image/png": "[encoded data removed]",
      "text/plain": [
       "<Figure size 432x288 with 1 Axes>"
      ]
     },
     "metadata": {
      "needs_background": "light"
     },
     "output_type": "display_data"
    }
   ],
   "source": [
    "plt.plot( 'StockOut', 'y1', data=df, marker='o', markerfacecolor='yellow', markersize=8, color='black', linewidth=4)\n",
    "plt.title('Out of Stock happened over two years')"
   ]
  },
  {
   "cell_type": "markdown",
   "metadata": {},
   "source": [
    "### Creating Regression model for future prediction of Sales"
   ]
  },
  {
   "cell_type": "code",
   "execution_count": 8,
   "metadata": {},
   "outputs": [],
   "source": [
    "x = df.iloc[:, :-1].values\n",
    "y = df.iloc[:, 1].values"
   ]
  },
  {
   "cell_type": "code",
   "execution_count": 14,
   "metadata": {},
   "outputs": [],
   "source": [
    "from sklearn.model_selection import train_test_split\n",
    "x_train, x_test, y_train, y_test = train_test_split(x, y, test_size = 1/2)"
   ]
  },
  {
   "cell_type": "markdown",
   "metadata": {},
   "source": [
    "### Linear Regression"
   ]
  },
  {
   "cell_type": "code",
   "execution_count": 15,
   "metadata": {},
   "outputs": [
    {
     "name": "stdout",
     "output_type": "stream",
     "text": [
      "Model Accuracy :  1.0\n"
     ]
    }
   ],
   "source": [
    "from sklearn.linear_model import LinearRegression\n",
    "lr = LinearRegression()\n",
    "lr.fit(x_train, y_train)\n",
    "y_pred = lr.predict(x_test)\n",
    "print('Model Accuracy : ',lr.score(x_test,y_test))"
   ]
  },
  {
   "cell_type": "code",
   "execution_count": null,
   "metadata": {},
   "outputs": [],
   "source": []
  },
  {
   "cell_type": "markdown",
   "metadata": {},
   "source": [
    "## End of Notebook..."
   ]
  }
 ],
 "metadata": {
  "kernelspec": {
   "display_name": "Python 3",
   "language": "python",
   "name": "python3"
  },
  "language_info": {
   "codemirror_mode": {
    "name": "ipython",
    "version": 3
   },
   "file_extension": ".py",
   "mimetype": "text/x-python",
   "name": "python",
   "nbconvert_exporter": "python",
   "pygments_lexer": "ipython3",
   "version": "3.7.4"
  }
 },
 "nbformat": 4,
 "nbformat_minor": 2
}
